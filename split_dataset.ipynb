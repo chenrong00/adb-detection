{
 "cells": [
  {
   "cell_type": "code",
   "execution_count": 7,
   "metadata": {},
   "outputs": [],
   "source": [
    "import random\n",
    "import os \n",
    "import shutil \n",
    "import glob\n"
   ]
  },
  {
   "cell_type": "code",
   "execution_count": 8,
   "metadata": {},
   "outputs": [],
   "source": [
    "random.seed(42)"
   ]
  },
  {
   "cell_type": "code",
   "execution_count": 9,
   "metadata": {},
   "outputs": [],
   "source": [
    "real_lesion_dir = 'D:/FYP/all_training/real_positive_samples/'\n",
    "real_no_lesion_dir = 'D:/FYP/all_training/real_negative_samples/'\n",
    "\n",
    "real_aug_lesion_dir = 'D:/FYP/all_training/aug_real_positive_samples/'\n",
    "real_aug_no_lesion_dir = \"D:/FYP/all_training/aug_real_negative_samples/\"\n",
    "\n",
    "synthetic_lesion_dir = \"D:/FYP/all_training/synthetic_positive_samples/\"\n",
    "synthetic_no_lesion_dir = \"D:/FYP/all_training/synthetic_negative_samples/\"\n",
    "\n",
    "synthetic_aug_lesion_dir = \"D:/FYP/all_training/aug_synthetic_positive_samples/\"\n",
    "synthetic_aug_no_lesion_dir = \"D:/FYP/all_training/aug_synthetic_negative_samples/\"\n",
    "\n",
    "bb_real_lesion_dir = 'D:/FYP/all_training/yolo_label_real_positive/'\n",
    "bb_synthetic_lesion_dir = \"D:/FYP/all_training/yolo_label_synthetic_positive/\"\n",
    "\n",
    "bb_aug_real_lesion_dir = \"D:/FYP/all_training/yolo_label_aug_real_positive/\"\n",
    "bb_aug_synthetic_lesion_dir = \"D:/FYP/all_training/yolo_label_aug_synthetic_positive/\"\n",
    "\n",
    "bb_real_no_lesion_dir = 'D:/FYP/all_training/yolo_label_real_negative/'\n",
    "bb_synthetic_no_lesion_dir = \"D:/FYP/all_training/yolo_label_synthetic_negative/\"\n",
    "\n",
    "bb_aug_real_no_lesion_dir = \"D:/FYP/all_training/yolo_label_aug_real_negative/\"\n",
    "bb_aug_synthetic_no_lesion_dir = \"D:/FYP/all_training/yolo_label_aug_synthetic_negative/\""
   ]
  },
  {
   "cell_type": "code",
   "execution_count": 4,
   "metadata": {},
   "outputs": [],
   "source": [
    "train_dir = \"D:/FYP/yolo_training_data/train\"\n",
    "val_dir = \"D:/FYP/yolo_training_data/val\""
   ]
  },
  {
   "cell_type": "code",
   "execution_count": 5,
   "metadata": {},
   "outputs": [],
   "source": [
    "split_size = 0.85\n",
    "synthetic_lesion_img_size = len(glob.glob(\"D:/FYP/all_training/synthetic_positive_samples/*\")) + len(glob.glob(\"D:/FYP/all_training/aug_synthetic_positive_samples/*\"))\n",
    "synthetic_no_lesion_img_size = len(glob.glob(\"D:/FYP/all_training/synthetic_negative_samples/*\")) + len(glob.glob(\"D:/FYP/all_training/aug_synthetic_negative_samples/*\"))\n",
    "real_lesion_img_size = len(glob.glob(\"D:/FYP/all_training/real_positive_samples/*\")) + len(glob.glob(\"D:/FYP/all_training/aug_real_positive_samples/*\"))\n",
    "real_no_lesion_img_size = len(glob.glob(\"D:/FYP/all_training/real_negative_samples/*\")) + len(glob.glob(\"D:/FYP/all_training/aug_real_negative_samples/*\"))\n",
    "\n",
    "def split_images(src_dir, bb_src_dir, train_dir, val_dir, train_ratio=0.85):\n",
    "\t# List all files in the source directory\n",
    "\tall_files = os.listdir(src_dir)\n",
    "\t\n",
    "\t# Shuffle the list of files\n",
    "\trandom.shuffle(all_files)\n",
    "\t\n",
    "\t# Calculate the splitting index\n",
    "\tsplit_idx = int(len(all_files) * train_ratio)\n",
    "\t\n",
    "\t# Split files into training and validation sets\n",
    "\ttrain_files = all_files[:split_idx]\n",
    "\tval_files = all_files[split_idx:]\n",
    "\n",
    "\t# Copy files into the respective directories\n",
    "\tfor file in train_files:\n",
    "\t\tyolo_file_path = os.path.splitext(file)[0] + '.txt'\n",
    "\t\tshutil.copy(os.path.join(src_dir, file), os.path.join(train_dir, file))\n",
    "\t\tshutil.copy(os.path.join(bb_src_dir, yolo_file_path), os.path.join(train_dir, yolo_file_path))\n",
    "\t\t\n",
    "\tfor file in val_files:\n",
    "\t\tyolo_file_path = os.path.splitext(file)[0] + '.txt'\n",
    "\t\tshutil.copy(os.path.join(src_dir, file), os.path.join(val_dir, file))\n",
    "\t\tshutil.copy(os.path.join(bb_src_dir, yolo_file_path), os.path.join(val_dir, yolo_file_path))"
   ]
  },
  {
   "cell_type": "code",
   "execution_count": null,
   "metadata": {},
   "outputs": [],
   "source": []
  },
  {
   "cell_type": "code",
   "execution_count": 10,
   "metadata": {},
   "outputs": [],
   "source": [
    "synthetic_lesion = os.listdir(synthetic_lesion_dir)\n",
    "synthetic_no_lesion = os.listdir(synthetic_no_lesion_dir)\n",
    "synthetic_aug_lesion = os.listdir(synthetic_aug_lesion_dir)\n",
    "synthetic_aug_no_lesion = os.listdir(synthetic_aug_no_lesion_dir)\n",
    "random.shuffle(synthetic_lesion)\n",
    "random.shuffle(synthetic_no_lesion)\n",
    "random.shuffle(synthetic_aug_lesion)\n",
    "random.shuffle(synthetic_aug_no_lesion)"
   ]
  },
  {
   "cell_type": "code",
   "execution_count": 11,
   "metadata": {},
   "outputs": [],
   "source": [
    "train_dir = \"D:/FYP/new_synthetic/train\"\n",
    "val_dir = \"D:/FYP/new_synthetic/val\""
   ]
  },
  {
   "cell_type": "code",
   "execution_count": null,
   "metadata": {},
   "outputs": [],
   "source": [
    "synthetic_lesion_dir,bb_synthetic_lesion_dir\n",
    "synthetic_no_lesion_dir, bb_synthetic_no_lesion_dir\n",
    "synthetic_aug_lesion_dir, bb_aug_synthetic_lesion_dir\n",
    "synthetic_aug_no_lesion_dir, bb_aug_synthetic_no_lesion_dir\n"
   ]
  },
  {
   "cell_type": "code",
   "execution_count": 12,
   "metadata": {},
   "outputs": [
    {
     "name": "stdout",
     "output_type": "stream",
     "text": [
      "178\n",
      "107\n",
      "178\n",
      "107\n"
     ]
    }
   ],
   "source": [
    "print(len(glob.glob(\"D:/FYP/all_training/synthetic_positive_samples/*\")))\n",
    "print(len(glob.glob(\"D:/FYP/all_training/synthetic_negative_samples/*\")))\n",
    "print(len(glob.glob(\"D:/FYP/all_training/aug_synthetic_positive_samples/*\")))\n",
    "print(len(glob.glob(\"D:/FYP/all_training/aug_synthetic_negative_samples/*\")))"
   ]
  },
  {
   "cell_type": "code",
   "execution_count": 29,
   "metadata": {},
   "outputs": [],
   "source": [
    "# 45, 89\n",
    "# 27,54\n",
    "\n",
    "# 89,134\n",
    "# 54,80\n",
    "\n",
    "\n",
    "move_images(synthetic_lesion_dir,synthetic_lesion, bb_synthetic_lesion_dir, train_dir, val_dir,89,134)\n",
    "move_images(synthetic_no_lesion_dir, synthetic_no_lesion, bb_synthetic_no_lesion_dir, train_dir, val_dir,54,80)\n",
    "move_images(synthetic_aug_lesion_dir, synthetic_aug_lesion, bb_aug_synthetic_lesion_dir, train_dir, val_dir,89,134)\n",
    "move_images(synthetic_aug_no_lesion_dir, synthetic_aug_no_lesion, bb_aug_synthetic_no_lesion_dir, train_dir, val_dir,54,80)"
   ]
  },
  {
   "cell_type": "code",
   "execution_count": 21,
   "metadata": {},
   "outputs": [],
   "source": [
    "\n",
    "\n",
    "def move_images(src_dir, src_list, bb_src_dir, train_dir, val_dir, fr, to):\n",
    "\tval_idx = int((to - fr) * 0.85) + fr\n",
    "\ttrain_files = src_list[fr:val_idx]\n",
    "\tval_files = src_list[val_idx:to]\n",
    "\n",
    "\tfor file in train_files:\n",
    "\t\tyolo_file_path = os.path.splitext(file)[0] + '.txt'\n",
    "\t\tshutil.copy(os.path.join(src_dir, file), os.path.join(train_dir, file))\n",
    "\t\tshutil.copy(os.path.join(bb_src_dir, yolo_file_path), os.path.join(train_dir, yolo_file_path))\n",
    "\t\n",
    "\tfor file in val_files:\n",
    "\t\tyolo_file_path = os.path.splitext(file)[0] + '.txt'\n",
    "\t\tshutil.copy(os.path.join(src_dir, file), os.path.join(val_dir, file))\n",
    "\t\tshutil.copy(os.path.join(bb_src_dir, yolo_file_path), os.path.join(val_dir, yolo_file_path))\n"
   ]
  },
  {
   "cell_type": "code",
   "execution_count": null,
   "metadata": {},
   "outputs": [],
   "source": []
  },
  {
   "cell_type": "code",
   "execution_count": null,
   "metadata": {},
   "outputs": [],
   "source": [
    "def move_files(src_dir, bb_src_dir, train_dir, val_dir, )"
   ]
  },
  {
   "cell_type": "code",
   "execution_count": 6,
   "metadata": {},
   "outputs": [
    {
     "name": "stdout",
     "output_type": "stream",
     "text": [
      "356\n",
      "214\n",
      "18\n",
      "20\n"
     ]
    }
   ],
   "source": [
    "print(synthetic_lesion_img_size)\n",
    "print(synthetic_no_lesion_img_size)\n",
    "print(real_lesion_img_size)\n",
    "print(real_no_lesion_img_size)"
   ]
  },
  {
   "cell_type": "code",
   "execution_count": 10,
   "metadata": {},
   "outputs": [],
   "source": [
    "split_images(real_lesion_dir, bb_real_lesion_dir, train_dir, val_dir)\n",
    "split_images(real_no_lesion_dir, bb_real_no_lesion_dir, train_dir, val_dir)\n",
    "split_images(real_aug_lesion_dir, bb_aug_real_lesion_dir, train_dir, val_dir)\n",
    "split_images(real_aug_no_lesion_dir, bb_aug_real_no_lesion_dir, train_dir, val_dir)\n",
    "split_images(synthetic_lesion_dir, bb_synthetic_lesion_dir, train_dir, val_dir)\n",
    "split_images(synthetic_no_lesion_dir, bb_synthetic_no_lesion_dir, train_dir, val_dir)\n",
    "split_images(synthetic_aug_lesion_dir, bb_aug_synthetic_lesion_dir, train_dir, val_dir)\n",
    "split_images(synthetic_aug_no_lesion_dir, bb_aug_synthetic_no_lesion_dir, train_dir, val_dir)"
   ]
  }
 ],
 "metadata": {
  "kernelspec": {
   "display_name": "base",
   "language": "python",
   "name": "python3"
  },
  "language_info": {
   "codemirror_mode": {
    "name": "ipython",
    "version": 3
   },
   "file_extension": ".py",
   "mimetype": "text/x-python",
   "name": "python",
   "nbconvert_exporter": "python",
   "pygments_lexer": "ipython3",
   "version": "3.7.11"
  },
  "orig_nbformat": 4
 },
 "nbformat": 4,
 "nbformat_minor": 2
}
